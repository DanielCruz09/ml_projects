{
 "cells": [
  {
   "cell_type": "markdown",
   "metadata": {},
   "source": [
    "Dataset Source: Al-Subaiey, A., Al-Thani, M., Alam, N. A., Antora, K. F., Khandakar, A., & Zaman, S. A. U. (2024, May 19). Novel Interpretable and Robust Web-based AI Platform for Phishing Email Detection. ArXiv.org. https://arxiv.org/abs/2405.11619*"
   ]
  },
  {
   "cell_type": "code",
   "execution_count": 1,
   "metadata": {},
   "outputs": [
    {
     "data": {
      "text/plain": [
       "0                                Never agree to be a loser\n",
       "1                                   Befriend Jenna Jameson\n",
       "2                                     CNN.com Daily Top 10\n",
       "3        Re: svn commit: r619753 - in /spamassassin/tru...\n",
       "4                               SpecialPricesPharmMoreinfo\n",
       "                               ...                        \n",
       "39149                          CNN Alerts: My Custom Alert\n",
       "39150                          CNN Alerts: My Custom Alert\n",
       "39151                                     Slideshow viewer\n",
       "39152                                Note on 2-digit years\n",
       "39153                        [Python-Dev] PEP 370 heads up\n",
       "Name: subject, Length: 39154, dtype: object"
      ]
     },
     "execution_count": 1,
     "metadata": {},
     "output_type": "execute_result"
    }
   ],
   "source": [
    "import pandas as pd\n",
    "\n",
    "data = pd.read_csv(\"datasets/CEAS_08.csv\")\n",
    "data[\"label\"]\n",
    "data[\"subject\"]"
   ]
  },
  {
   "cell_type": "code",
   "execution_count": 9,
   "metadata": {},
   "outputs": [],
   "source": [
    "sentences = list(map(lambda sentence: str(sentence), data[\"subject\"].values))"
   ]
  },
  {
   "cell_type": "code",
   "execution_count": 10,
   "metadata": {},
   "outputs": [],
   "source": [
    "s = set()\n",
    "for sentence in sentences:\n",
    "    for word in sentence.split():\n",
    "        s.add(word)\n",
    "num_unique_words = len(s)"
   ]
  },
  {
   "cell_type": "code",
   "execution_count": 11,
   "metadata": {},
   "outputs": [],
   "source": [
    "from sklearn.model_selection import train_test_split\n",
    "\n",
    "X_train, X_test, y_train, y_test = train_test_split(sentences, data[\"label\"], train_size=0.8, random_state=42)"
   ]
  },
  {
   "cell_type": "code",
   "execution_count": 16,
   "metadata": {},
   "outputs": [],
   "source": [
    "import tensorflow as tf\n",
    "\n",
    "tokenizer = tf.keras.preprocessing.text.Tokenizer(num_words=num_unique_words, lower=True, oov_token=\"<OOV>\")\n",
    "tokenizer.fit_on_texts(X_train)\n",
    "\n",
    "training_sequences = tokenizer.texts_to_sequences(X_train)\n",
    "training_padded = tf.keras.preprocessing.sequence.pad_sequences(training_sequences, padding=\"post\")\n",
    "\n",
    "testing_sequences = tokenizer.texts_to_sequences(X_test)\n",
    "testing_padded = tf.keras.preprocessing.sequence.pad_sequences(testing_sequences, padding=\"post\")"
   ]
  },
  {
   "cell_type": "code",
   "execution_count": 28,
   "metadata": {},
   "outputs": [
    {
     "name": "stdout",
     "output_type": "stream",
     "text": [
      "Model: \"sequential_10\"\n",
      "_________________________________________________________________\n",
      " Layer (type)                Output Shape              Param #   \n",
      "=================================================================\n",
      " embedding_10 (Embedding)    (None, None, 128)         2891264   \n",
      "                                                                 \n",
      " global_average_pooling1d_1  (None, 128)               0         \n",
      " 0 (GlobalAveragePooling1D)                                      \n",
      "                                                                 \n",
      " dense_20 (Dense)            (None, 32)                4128      \n",
      "                                                                 \n",
      " dropout (Dropout)           (None, 32)                0         \n",
      "                                                                 \n",
      " dense_21 (Dense)            (None, 1)                 33        \n",
      "                                                                 \n",
      "=================================================================\n",
      "Total params: 2895425 (11.05 MB)\n",
      "Trainable params: 2895425 (11.05 MB)\n",
      "Non-trainable params: 0 (0.00 Byte)\n",
      "_________________________________________________________________\n",
      "Epoch 1/7\n",
      "979/979 [==============================] - 88s 86ms/step - loss: 0.2891 - accuracy: 0.8670 - val_loss: 0.0887 - val_accuracy: 0.9704\n",
      "Epoch 2/7\n",
      "979/979 [==============================] - 47s 48ms/step - loss: 0.0803 - accuracy: 0.9750 - val_loss: 0.0504 - val_accuracy: 0.9849\n",
      "Epoch 3/7\n",
      "979/979 [==============================] - 43s 44ms/step - loss: 0.0450 - accuracy: 0.9881 - val_loss: 0.0459 - val_accuracy: 0.9844\n",
      "Epoch 4/7\n",
      "979/979 [==============================] - 44s 45ms/step - loss: 0.0290 - accuracy: 0.9930 - val_loss: 0.0475 - val_accuracy: 0.9858\n",
      "Epoch 5/7\n",
      "979/979 [==============================] - 46s 47ms/step - loss: 0.0205 - accuracy: 0.9945 - val_loss: 0.0486 - val_accuracy: 0.9865\n",
      "Epoch 6/7\n",
      "979/979 [==============================] - 69s 70ms/step - loss: 0.0143 - accuracy: 0.9965 - val_loss: 0.0507 - val_accuracy: 0.9871\n",
      "Epoch 7/7\n",
      "979/979 [==============================] - 45s 46ms/step - loss: 0.0118 - accuracy: 0.9970 - val_loss: 0.0530 - val_accuracy: 0.9874\n"
     ]
    }
   ],
   "source": [
    "model = tf.keras.Sequential([\n",
    "    tf.keras.layers.Embedding(input_dim=num_unique_words, output_dim=128),\n",
    "    tf.keras.layers.GlobalAveragePooling1D(),\n",
    "    tf.keras.layers.Dense(32, activation=\"relu\"),\n",
    "    tf.keras.layers.Dropout(0.5),\n",
    "    tf.keras.layers.Dense(1, activation=\"sigmoid\")\n",
    "])\n",
    "model.compile(loss=\"binary_crossentropy\", optimizer=\"adam\", metrics=[\"accuracy\"])\n",
    "model.summary()\n",
    "\n",
    "history = model.fit(training_padded, y_train, epochs=7, validation_data=(testing_padded, y_test))"
   ]
  },
  {
   "cell_type": "code",
   "execution_count": 39,
   "metadata": {},
   "outputs": [
    {
     "name": "stdout",
     "output_type": "stream",
     "text": [
      "245/245 [==============================] - 1s 3ms/step\n",
      "Accuracy:  0.9873579364065892\n",
      "Precision:  0.9869146005509641\n",
      "Recall:  0.9903248099516241\n",
      "F1 Score:  0.9886167644015177\n"
     ]
    }
   ],
   "source": [
    "import numpy as np\n",
    "\n",
    "y_pred = model.predict(testing_padded)\n",
    "y_pred = np.round(y_pred)\n",
    "\n",
    "from sklearn.metrics import accuracy_score, f1_score, precision_score, recall_score\n",
    "\n",
    "print(\"Accuracy: \", accuracy_score(y_pred=y_pred, y_true=y_test))\n",
    "print(\"Precision: \", precision_score(y_pred=y_pred, y_true=y_test))\n",
    "print(\"Recall: \", recall_score(y_pred=y_pred, y_true=y_test))\n",
    "print(\"F1 Score: \", f1_score(y_pred=y_pred, y_true=y_test))"
   ]
  },
  {
   "cell_type": "code",
   "execution_count": 40,
   "metadata": {},
   "outputs": [
    {
     "data": {
      "text/plain": [
       "<sklearn.metrics._plot.confusion_matrix.ConfusionMatrixDisplay at 0x1c7f05c8410>"
      ]
     },
     "execution_count": 40,
     "metadata": {},
     "output_type": "execute_result"
    },
    {
     "data": {
      "image/png": "[encoded data removed]",
      "text/plain": [
       "<Figure size 640x480 with 2 Axes>"
      ]
     },
     "metadata": {},
     "output_type": "display_data"
    }
   ],
   "source": [
    "from sklearn.metrics import ConfusionMatrixDisplay, confusion_matrix\n",
    "\n",
    "cf_matrix = confusion_matrix(y_pred=y_pred, y_true=y_test)\n",
    "ConfusionMatrixDisplay(cf_matrix).plot()"
   ]
  }
 ],
 "metadata": {
  "kernelspec": {
   "display_name": "Python 3",
   "language": "python",
   "name": "python3"
  },
  "language_info": {
   "codemirror_mode": {
    "name": "ipython",
    "version": 3
   },
   "file_extension": ".py",
   "mimetype": "text/x-python",
   "name": "python",
   "nbconvert_exporter": "python",
   "pygments_lexer": "ipython3",
   "version": "3.11.9"
  }
 },
 "nbformat": 4,
 "nbformat_minor": 2
}
