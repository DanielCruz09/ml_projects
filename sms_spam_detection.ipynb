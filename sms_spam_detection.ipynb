{
 "cells": [
  {
   "cell_type": "markdown",
   "metadata": {},
   "source": [
    "# SMS Spam Detection"
   ]
  },
  {
   "cell_type": "markdown",
   "metadata": {},
   "source": [
    "Note that I used https://www.geeksforgeeks.org/sms-spam-detection-using-tensorflow-in-python/ as a guide. I followed through this guide, but added some regularization techniques to the neural network."
   ]
  },
  {
   "cell_type": "markdown",
   "metadata": {},
   "source": [
    "This program classifies messages as 'ham' (non-spam messages) or 'spam' for spam messages. First, we load and organize the data."
   ]
  },
  {
   "cell_type": "code",
   "execution_count": 2,
   "metadata": {},
   "outputs": [
    {
     "name": "stdout",
     "output_type": "stream",
     "text": [
      "  Label                                               Text  encoded_label\n",
      "0   ham  Go until jurong point, crazy.. Available only ...              0\n",
      "1   ham                      Ok lar... Joking wif u oni...              0\n",
      "2  spam  Free entry in 2 a wkly comp to win FA Cup fina...              1\n",
      "3   ham  U dun say so early hor... U c already then say...              0\n",
      "4   ham  Nah I don't think he goes to usf, he lives aro...              0\n"
     ]
    }
   ],
   "source": [
    "import pandas as pd\n",
    "\n",
    "# Read in data from csv\n",
    "data = pd.read_csv(\"datasets/spam.csv\", encoding='latin-1')\n",
    "\n",
    "# Drop columns with NaN values\n",
    "for col in data.columns:\n",
    "    if 'Unnamed' in col:\n",
    "        data.drop(columns=col, inplace=True)\n",
    "\n",
    "# Rename columns to useful names\n",
    "data = data.rename(columns={\"v1\":\"Label\", \"v2\":\"Text\"})\n",
    "\n",
    "# Add an encoding for the labels: ham = 0, spam = 1\n",
    "enc_labels = []\n",
    "for item in data[\"Label\"]:\n",
    "    enc_labels.append(0 if item == \"ham\" else 1)\n",
    "data.insert(loc=2, column=\"encoded_label\", value=enc_labels)\n",
    "print(data.head())\n"
   ]
  },
  {
   "cell_type": "markdown",
   "metadata": {},
   "source": [
    "We must find the average sentence length to help with padding during the model-building process."
   ]
  },
  {
   "cell_type": "code",
   "execution_count": 3,
   "metadata": {},
   "outputs": [],
   "source": [
    "# Find the average number of tokens in all sentences\n",
    "sentences = data[\"Text\"].values\n",
    "\n",
    "avg_sentence_len = 0\n",
    "for sentence in sentences:\n",
    "    avg_sentence_len += len(sentence.split()) # adding the number of words in each sentence\n",
    "avg_sentence_len = avg_sentence_len // len(sentences) # divide by the total number of sentences"
   ]
  },
  {
   "cell_type": "markdown",
   "metadata": {},
   "source": [
    "Some words, such as \"the\", appear much more frequently than other words. We use a set to find the number of unique words to help with this imbalance."
   ]
  },
  {
   "cell_type": "code",
   "execution_count": 4,
   "metadata": {},
   "outputs": [
    {
     "name": "stdout",
     "output_type": "stream",
     "text": [
      "15585\n"
     ]
    }
   ],
   "source": [
    "# Find the total number of unique words\n",
    "s = set()\n",
    "for sentence in sentences:\n",
    "    for word in sentence.split():\n",
    "        s.add(word)\n",
    "num_unique_words = len(s)\n",
    "print(num_unique_words)"
   ]
  },
  {
   "cell_type": "markdown",
   "metadata": {},
   "source": [
    "We split the data using an 80/20 split. The must use the encoded labels instead of 'ham' or 'spam' since our model cannot use strings for its computations."
   ]
  },
  {
   "cell_type": "code",
   "execution_count": 5,
   "metadata": {},
   "outputs": [],
   "source": [
    "from sklearn.model_selection import train_test_split\n",
    "\n",
    "# Split the data\n",
    "X_train, X_test, y_train, y_test = train_test_split(data[\"Text\"], data[\"encoded_label\"], train_size=0.8, random_state=42)"
   ]
  },
  {
   "cell_type": "markdown",
   "metadata": {},
   "source": [
    "Now, we create the model. Since the model is not exactly sequential, we use the functional API. The model was overfitting the data (it acheived almost 100% accuracy), so I added some dropout layers and regularization. These constraints decrease the model's likeliness of overfitting."
   ]
  },
  {
   "cell_type": "code",
   "execution_count": 6,
   "metadata": {},
   "outputs": [
    {
     "name": "stdout",
     "output_type": "stream",
     "text": [
      "WARNING:tensorflow:From C:\\Users\\Daniel Cruz\\AppData\\Local\\Packages\\PythonSoftwareFoundation.Python.3.11_qbz5n2kfra8p0\\LocalCache\\local-packages\\Python311\\site-packages\\keras\\src\\backend.py:873: The name tf.get_default_graph is deprecated. Please use tf.compat.v1.get_default_graph instead.\n",
      "\n",
      "WARNING:tensorflow:From C:\\Users\\Daniel Cruz\\AppData\\Local\\Packages\\PythonSoftwareFoundation.Python.3.11_qbz5n2kfra8p0\\LocalCache\\local-packages\\Python311\\site-packages\\keras\\src\\utils\\tf_utils.py:492: The name tf.ragged.RaggedTensorValue is deprecated. Please use tf.compat.v1.ragged.RaggedTensorValue instead.\n",
      "\n",
      "WARNING:tensorflow:From C:\\Users\\Daniel Cruz\\AppData\\Local\\Packages\\PythonSoftwareFoundation.Python.3.11_qbz5n2kfra8p0\\LocalCache\\local-packages\\Python311\\site-packages\\keras\\src\\optimizers\\__init__.py:309: The name tf.train.Optimizer is deprecated. Please use tf.compat.v1.train.Optimizer instead.\n",
      "\n",
      "Epoch 1/5\n",
      "WARNING:tensorflow:From C:\\Users\\Daniel Cruz\\AppData\\Local\\Packages\\PythonSoftwareFoundation.Python.3.11_qbz5n2kfra8p0\\LocalCache\\local-packages\\Python311\\site-packages\\keras\\src\\engine\\base_layer_utils.py:384: The name tf.executing_eagerly_outside_functions is deprecated. Please use tf.compat.v1.executing_eagerly_outside_functions instead.\n",
      "\n",
      "140/140 [==============================] - 9s 39ms/step - loss: 0.4058 - accuracy: 0.8580\n",
      "Epoch 2/5\n",
      "140/140 [==============================] - 5s 35ms/step - loss: 0.1826 - accuracy: 0.9345\n",
      "Epoch 3/5\n",
      "140/140 [==============================] - 5s 36ms/step - loss: 0.1070 - accuracy: 0.9776\n",
      "Epoch 4/5\n",
      "140/140 [==============================] - 5s 36ms/step - loss: 0.0713 - accuracy: 0.9847\n",
      "Epoch 5/5\n",
      "140/140 [==============================] - 5s 36ms/step - loss: 0.0530 - accuracy: 0.9899\n",
      "Model: \"model\"\n",
      "_________________________________________________________________\n",
      " Layer (type)                Output Shape              Param #   \n",
      "=================================================================\n",
      " input_1 (InputLayer)        [(None, 1)]               0         \n",
      "                                                                 \n",
      " text_vectorization (TextVe  (None, 15)                0         \n",
      " ctorization)                                                    \n",
      "                                                                 \n",
      " embedding (Embedding)       (None, 15, 128)           1994880   \n",
      "                                                                 \n",
      " global_average_pooling1d (  (None, 128)               0         \n",
      " GlobalAveragePooling1D)                                         \n",
      "                                                                 \n",
      " dropout (Dropout)           (None, 128)               0         \n",
      "                                                                 \n",
      " flatten (Flatten)           (None, 128)               0         \n",
      "                                                                 \n",
      " dropout_1 (Dropout)         (None, 128)               0         \n",
      "                                                                 \n",
      " dense (Dense)               (None, 32)                4128      \n",
      "                                                                 \n",
      " dropout_2 (Dropout)         (None, 32)                0         \n",
      "                                                                 \n",
      " dense_1 (Dense)             (None, 1)                 33        \n",
      "                                                                 \n",
      "=================================================================\n",
      "Total params: 1999041 (7.63 MB)\n",
      "Trainable params: 1999041 (7.63 MB)\n",
      "Non-trainable params: 0 (0.00 Byte)\n",
      "_________________________________________________________________\n",
      "None\n"
     ]
    }
   ],
   "source": [
    "import tensorflow as tf\n",
    "\n",
    "text_vec = tf.keras.layers.TextVectorization(max_tokens=num_unique_words, standardize=\"lower_and_strip_punctuation\", \n",
    "                                       output_sequence_length=avg_sentence_len, output_mode=\"int\")\n",
    "text_vec.adapt(X_train)\n",
    "embed_layer = tf.keras.layers.Embedding(input_dim=num_unique_words, output_dim=128, input_length=avg_sentence_len,\n",
    "                                        embeddings_initializer=\"uniform\")\n",
    "\n",
    "input_layer = tf.keras.layers.Input(shape=(1,), dtype=tf.string)\n",
    "vec_layer = text_vec(input_layer)\n",
    "embedding_layer = embed_layer(vec_layer)\n",
    "x = tf.keras.layers.GlobalAveragePooling1D()(embedding_layer)\n",
    "x = tf.keras.layers.Dropout(0.5)(x)\n",
    "x = tf.keras.layers.Flatten()(x)\n",
    "x = tf.keras.layers.Dropout(0.5)(x)\n",
    "x = tf.keras.layers.Dense(32, activation=\"relu\", kernel_regularizer=tf.keras.regularizers.l2(1e-4))(x)\n",
    "x = tf.keras.layers.Dropout(0.5)(x)\n",
    "output_layer = tf.keras.layers.Dense(1, activation=\"sigmoid\")(x)\n",
    "model = tf.keras.Model(inputs=input_layer, outputs=output_layer)\n",
    "\n",
    "model.compile(optimizer=\"adam\", loss=\"binary_crossentropy\", metrics=[\"accuracy\"])\n",
    "history = model.fit(X_train, y_train, epochs=5)"
   ]
  },
  {
   "cell_type": "markdown",
   "metadata": {},
   "source": [
    "We should not use accuracy as our only metric. We can compute the f1 score, which gives us a much more accurate representation of the model's performance."
   ]
  },
  {
   "cell_type": "code",
   "execution_count": 10,
   "metadata": {},
   "outputs": [
    {
     "name": "stdout",
     "output_type": "stream",
     "text": [
      "35/35 [==============================] - 0s 4ms/step\n",
      "[1. 0. 1. ... 0. 0. 1.]\n",
      "Accuracy: 0.9748878923766816\n",
      "Precision: 0.9295774647887324\n",
      "Recall: 0.88\n",
      "F1: 0.9041095890410958\n"
     ]
    }
   ],
   "source": [
    "# print(model.summary())\n",
    "\n",
    "y_pred = model.predict(X_test)\n",
    "y_pred = y_pred.round()\n",
    "\n",
    "y_pred1D = []\n",
    "for i in range(len(y_pred)):\n",
    "    y_pred1D.append(y_pred[i][0])\n",
    "\n",
    "y_pred1D = pd.Series(y_pred1D)\n",
    "\n",
    "# print(y_pred1D.values)\n",
    "\n",
    "from sklearn.metrics import accuracy_score, f1_score, precision_score, recall_score\n",
    "\n",
    "print(\"Accuracy:\", accuracy_score(y_pred=y_pred1D, y_true=y_test))\n",
    "print(\"Precision:\", precision_score(y_pred=y_pred1D, y_true=y_test))\n",
    "print(\"Recall:\", recall_score(y_pred=y_pred1D, y_true=y_test))\n",
    "print(\"F1:\", f1_score(y_pred=y_pred1D, y_true=y_test))\n"
   ]
  },
  {
   "cell_type": "markdown",
   "metadata": {},
   "source": [
    "Lastly, we make a confusion matrix to analyze the number of correct and incorrect predictions. It seems that most of the predictions were true positives and true negatives."
   ]
  },
  {
   "cell_type": "code",
   "execution_count": 19,
   "metadata": {},
   "outputs": [
    {
     "data": {
      "text/plain": [
       "<sklearn.metrics._plot.confusion_matrix.ConfusionMatrixDisplay at 0x145cbda2090>"
      ]
     },
     "execution_count": 19,
     "metadata": {},
     "output_type": "execute_result"
    },
    {
     "data": {
      "image/png": "[encoded data removed]",
      "text/plain": [
       "<Figure size 640x480 with 2 Axes>"
      ]
     },
     "metadata": {},
     "output_type": "display_data"
    }
   ],
   "source": [
    "from sklearn.metrics import ConfusionMatrixDisplay, confusion_matrix\n",
    "\n",
    "cf_matrx = confusion_matrix(y_pred=y_pred1D, y_true=y_test)\n",
    "ConfusionMatrixDisplay(cf_matrx).plot()"
   ]
  }
 ],
 "metadata": {
  "kernelspec": {
   "display_name": "Python 3",
   "language": "python",
   "name": "python3"
  },
  "language_info": {
   "codemirror_mode": {
    "name": "ipython",
    "version": 3
   },
   "file_extension": ".py",
   "mimetype": "text/x-python",
   "name": "python",
   "nbconvert_exporter": "python",
   "pygments_lexer": "ipython3",
   "version": "3.11.8"
  }
 },
 "nbformat": 4,
 "nbformat_minor": 2
}
