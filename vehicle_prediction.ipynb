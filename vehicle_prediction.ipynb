{
 "cells": [
  {
   "cell_type": "code",
   "execution_count": 171,
   "metadata": {},
   "outputs": [
    {
     "name": "stdout",
     "output_type": "stream",
     "text": [
      "<bound method DataFrame.info of         year    make                model         trim       body  \\\n",
      "0       2015     Kia              Sorento           LX        SUV   \n",
      "1       2015     Kia              Sorento           LX        SUV   \n",
      "2       2014     BMW             3 Series   328i SULEV      Sedan   \n",
      "3       2015   Volvo                  S60           T5      Sedan   \n",
      "4       2014     BMW  6 Series Gran Coupe         650i      Sedan   \n",
      "...      ...     ...                  ...          ...        ...   \n",
      "558832  2015     Kia                 K900       Luxury      Sedan   \n",
      "558833  2012     Ram                 2500  Power Wagon   Crew Cab   \n",
      "558834  2012     BMW                   X5    xDrive35d        SUV   \n",
      "558835  2015  Nissan               Altima        2.5 S      sedan   \n",
      "558836  2014    Ford                F-150          XLT  SuperCrew   \n",
      "\n",
      "       transmission                vin state  condition  odometer   color  \\\n",
      "0         automatic  5xyktca69fg566472    ca        5.0   16639.0   white   \n",
      "1         automatic  5xyktca69fg561319    ca        5.0    9393.0   white   \n",
      "2         automatic  wba3c1c51ek116351    ca       45.0    1331.0    gray   \n",
      "3         automatic  yv1612tb4f1310987    ca       41.0   14282.0   white   \n",
      "4         automatic  wba6b2c57ed129731    ca       43.0    2641.0    gray   \n",
      "...             ...                ...   ...        ...       ...     ...   \n",
      "558832          NaN  knalw4d4xf6019304    in       45.0   18255.0  silver   \n",
      "558833    automatic  3c6td5et6cg112407    wa        5.0   54393.0   white   \n",
      "558834    automatic  5uxzw0c58cl668465    ca       48.0   50561.0   black   \n",
      "558835    automatic  1n4al3ap0fc216050    ga       38.0   16658.0   white   \n",
      "558836    automatic  1ftfw1et2eke87277    ca       34.0   15008.0    gray   \n",
      "\n",
      "       interior                                             seller      mmr  \\\n",
      "0         black                            kia motors america  inc  20500.0   \n",
      "1         beige                            kia motors america  inc  20800.0   \n",
      "2         black             financial services remarketing (lease)  31900.0   \n",
      "3         black                            volvo na rep/world omni  27500.0   \n",
      "4         black             financial services remarketing (lease)  66000.0   \n",
      "...         ...                                                ...      ...   \n",
      "558832    black                                   avis corporation  35300.0   \n",
      "558833    black                                    i -5 uhlmann rv  30200.0   \n",
      "558834    black             financial services remarketing (lease)  29800.0   \n",
      "558835    black  enterprise vehicle exchange / tra / rental / t...  15100.0   \n",
      "558836     gray                   ford motor credit company llc pd  29600.0   \n",
      "\n",
      "        sellingprice                                 saledate  \n",
      "0            21500.0  Tue Dec 16 2014 12:30:00 GMT-0800 (PST)  \n",
      "1            21500.0  Tue Dec 16 2014 12:30:00 GMT-0800 (PST)  \n",
      "2            30000.0  Thu Jan 15 2015 04:30:00 GMT-0800 (PST)  \n",
      "3            27750.0  Thu Jan 29 2015 04:30:00 GMT-0800 (PST)  \n",
      "4            67000.0  Thu Dec 18 2014 12:30:00 GMT-0800 (PST)  \n",
      "...              ...                                      ...  \n",
      "558832       33000.0  Thu Jul 09 2015 07:00:00 GMT-0700 (PDT)  \n",
      "558833       30800.0  Wed Jul 08 2015 09:30:00 GMT-0700 (PDT)  \n",
      "558834       34000.0  Wed Jul 08 2015 09:30:00 GMT-0700 (PDT)  \n",
      "558835       11100.0  Thu Jul 09 2015 06:45:00 GMT-0700 (PDT)  \n",
      "558836       26700.0  Thu May 28 2015 05:30:00 GMT-0700 (PDT)  \n",
      "\n",
      "[558837 rows x 16 columns]>\n",
      "Index(['year', 'make', 'model', 'trim', 'body', 'transmission', 'vin', 'state',\n",
      "       'condition', 'odometer', 'color', 'interior', 'seller', 'mmr',\n",
      "       'sellingprice', 'saledate'],\n",
      "      dtype='object')\n"
     ]
    }
   ],
   "source": [
    "import pandas as pd\n",
    "\n",
    "car_data = pd.read_csv(\"datasets/car_prices.csv\")\n",
    "print(car_data.info)\n",
    "print(car_data.columns)\n",
    "\n",
    "car_data.drop(columns=[\"vin\"], inplace=True) # not really meaningful"
   ]
  },
  {
   "cell_type": "code",
   "execution_count": 172,
   "metadata": {},
   "outputs": [],
   "source": [
    "from sklearn.preprocessing import LabelEncoder\n",
    "\n",
    "\n",
    "car_data[\"make\"] = LabelEncoder().fit_transform(car_data[\"make\"])\n",
    "car_data[\"model\"] = LabelEncoder().fit_transform(car_data[\"model\"])\n",
    "car_data[\"trim\"] = LabelEncoder().fit_transform(car_data[\"trim\"])\n",
    "car_data[\"body\"] = LabelEncoder().fit_transform(car_data[\"body\"])\n",
    "car_data[\"transmission\"] = LabelEncoder().fit_transform(car_data[\"transmission\"])\n",
    "car_data[\"state\"] = LabelEncoder().fit_transform(car_data[\"state\"])\n",
    "car_data[\"color\"] = LabelEncoder().fit_transform(car_data[\"color\"])\n",
    "car_data[\"interior\"] = LabelEncoder().fit_transform(car_data[\"interior\"])\n",
    "car_data[\"seller\"] = LabelEncoder().fit_transform(car_data[\"seller\"])\n"
   ]
  },
  {
   "cell_type": "code",
   "execution_count": 173,
   "metadata": {},
   "outputs": [
    {
     "name": "stdout",
     "output_type": "stream",
     "text": [
      "0         2014\n",
      "1         2014\n",
      "2         2014\n",
      "3         2014\n",
      "4         2014\n",
      "          ... \n",
      "558832    2014\n",
      "558833    2014\n",
      "558834    2014\n",
      "558835    2014\n",
      "558836    2014\n",
      "Name: saledate, Length: 558837, dtype: object\n"
     ]
    }
   ],
   "source": [
    "car_data[\"saledate\"] = str(car_data[\"saledate\"])\n",
    "car_data[\"saledate\"] = [date[21:25] for date in car_data[\"saledate\"]]\n",
    "print(car_data[\"saledate\"])\n",
    "car_data[\"saledate\"] = LabelEncoder().fit_transform(car_data[\"saledate\"])"
   ]
  },
  {
   "cell_type": "code",
   "execution_count": 174,
   "metadata": {},
   "outputs": [
    {
     "name": "stdout",
     "output_type": "stream",
     "text": [
      "                  year      make     model      trim      body  transmission  \\\n",
      "year          1.000000 -0.107049 -0.099938  0.007438 -0.007213     -0.003454   \n",
      "make         -0.107049  1.000000  0.271055  0.124890  0.246417      0.034998   \n",
      "model        -0.099938  0.271055  1.000000  0.234728  0.130787      0.031771   \n",
      "trim          0.007438  0.124890  0.234728  1.000000  0.099927      0.000638   \n",
      "body         -0.007213  0.246417  0.130787  0.099927  1.000000      0.030719   \n",
      "transmission -0.003454  0.034998  0.031771  0.000638  0.030719      1.000000   \n",
      "state         0.021518 -0.028043  0.016197  0.041061  0.012431      0.167334   \n",
      "condition     0.340320 -0.013922 -0.041761 -0.013914 -0.003254      0.001375   \n",
      "odometer     -0.772737  0.056959  0.098961  0.023365  0.027695     -0.014248   \n",
      "color         0.064795  0.001842  0.002240  0.022380 -0.001657     -0.015870   \n",
      "interior     -0.218824  0.016117  0.021063  0.016130 -0.006109     -0.009472   \n",
      "seller        0.001966  0.126513  0.031047 -0.046632  0.014084     -0.006712   \n",
      "mmr           0.596631 -0.102354 -0.034735  0.014105 -0.054671      0.038084   \n",
      "sellingprice  0.586480 -0.099810 -0.033722  0.012595 -0.051577      0.035157   \n",
      "saledate           NaN       NaN       NaN       NaN       NaN           NaN   \n",
      "\n",
      "                 state  condition  odometer     color  interior    seller  \\\n",
      "year          0.021518   0.340320 -0.772737  0.064795 -0.218824  0.001966   \n",
      "make         -0.028043  -0.013922  0.056959  0.001842  0.016117  0.126513   \n",
      "model         0.016197  -0.041761  0.098961  0.002240  0.021063  0.031047   \n",
      "trim          0.041061  -0.013914  0.023365  0.022380  0.016130 -0.046632   \n",
      "body          0.012431  -0.003254  0.027695 -0.001657 -0.006109  0.014084   \n",
      "transmission  0.167334   0.001375 -0.014248 -0.015870 -0.009472 -0.006712   \n",
      "state         1.000000   0.024957 -0.010146  0.001257  0.038847  0.010521   \n",
      "condition     0.024957   1.000000 -0.318188  0.035837 -0.080791 -0.003344   \n",
      "odometer     -0.010146  -0.318188  1.000000 -0.034012  0.187901  0.000615   \n",
      "color         0.001257   0.035837 -0.034012  1.000000  0.028488  0.014231   \n",
      "interior      0.038847  -0.080791  0.187901  0.028488  1.000000 -0.015164   \n",
      "seller        0.010521  -0.003344  0.000615  0.014231 -0.015164  1.000000   \n",
      "mmr           0.014042   0.281415 -0.588113  0.009339 -0.142046 -0.022596   \n",
      "sellingprice  0.010367   0.321944 -0.582393  0.015168 -0.142660 -0.021998   \n",
      "saledate           NaN        NaN       NaN       NaN       NaN       NaN   \n",
      "\n",
      "                   mmr  sellingprice  saledate  \n",
      "year          0.596631      0.586480       NaN  \n",
      "make         -0.102354     -0.099810       NaN  \n",
      "model        -0.034735     -0.033722       NaN  \n",
      "trim          0.014105      0.012595       NaN  \n",
      "body         -0.054671     -0.051577       NaN  \n",
      "transmission  0.038084      0.035157       NaN  \n",
      "state         0.014042      0.010367       NaN  \n",
      "condition     0.281415      0.321944       NaN  \n",
      "odometer     -0.588113     -0.582393       NaN  \n",
      "color         0.009339      0.015168       NaN  \n",
      "interior     -0.142046     -0.142660       NaN  \n",
      "seller       -0.022596     -0.021998       NaN  \n",
      "mmr           1.000000      0.983635       NaN  \n",
      "sellingprice  0.983635      1.000000       NaN  \n",
      "saledate           NaN           NaN       NaN  \n"
     ]
    }
   ],
   "source": [
    "print(car_data.corr())"
   ]
  },
  {
   "cell_type": "markdown",
   "metadata": {},
   "source": [
    "It seems that the strongest predictors are year, condition, odometer, and mmr. "
   ]
  },
  {
   "cell_type": "code",
   "execution_count": 175,
   "metadata": {},
   "outputs": [
    {
     "name": "stdout",
     "output_type": "stream",
     "text": [
      "Index(['year', 'condition', 'odometer', 'mmr', 'sellingprice'], dtype='object')\n"
     ]
    }
   ],
   "source": [
    "df = car_data.drop(columns=[\"make\", \"model\", \"trim\", \"body\", \"transmission\", \"state\", \"color\", \"interior\", \"seller\", \"saledate\"])\n",
    "print(df.columns)"
   ]
  },
  {
   "cell_type": "code",
   "execution_count": 178,
   "metadata": {},
   "outputs": [],
   "source": [
    "from sklearn.impute import SimpleImputer\n",
    "import numpy as np\n",
    "from sklearn.model_selection import train_test_split\n",
    "from sklearn.preprocessing import StandardScaler\n",
    "\n",
    "X = car_data.drop(columns=[\"sellingprice\"])\n",
    "y = car_data[\"sellingprice\"]\n",
    "\n",
    "imputer = SimpleImputer(missing_values=np.nan, strategy=\"most_frequent\")\n",
    "X = imputer.fit_transform(X)\n",
    "std_scaler = StandardScaler()\n",
    "X_scaled = std_scaler.fit_transform(X)\n",
    "\n",
    "y = pd.DataFrame(y)\n",
    "y = imputer.fit_transform(y)\n",
    "\n",
    "X_train, X_test, y_train, y_test = train_test_split(X_scaled, y, train_size=0.8, random_state=42)"
   ]
  },
  {
   "cell_type": "code",
   "execution_count": 183,
   "metadata": {},
   "outputs": [
    {
     "name": "stdout",
     "output_type": "stream",
     "text": [
      "The model accounts for 96.97% of the variability\n"
     ]
    }
   ],
   "source": [
    "from sklearn.linear_model import LinearRegression\n",
    "\n",
    "lin_reg = LinearRegression()\n",
    "lin_reg.fit(X_train, y_train)\n",
    "print(f'The model accounts for {round(lin_reg.score(X_train, y_train)*100, 2)}% of the variability')\n"
   ]
  },
  {
   "cell_type": "code",
   "execution_count": 187,
   "metadata": {},
   "outputs": [
    {
     "name": "stdout",
     "output_type": "stream",
     "text": [
      "1646.1526282677746\n"
     ]
    }
   ],
   "source": [
    "def calculate_rmse(actual, pred):\n",
    "    actual = np.array(actual)\n",
    "    pred = np.array(pred)\n",
    "    return np.sqrt(np.square(np.subtract(actual, pred)).mean())\n",
    "\n",
    "y_pred = lin_reg.predict(X_test)\n",
    "rmse = calculate_rmse(y_test, y_pred)\n",
    "print(rmse)"
   ]
  },
  {
   "cell_type": "markdown",
   "metadata": {},
   "source": [
    "An RMSE value of 1,646 means that the predictions of this linear regression model can vary by approximately $1,650 from the actual price of the vehicle."
   ]
  },
  {
   "cell_type": "code",
   "execution_count": 195,
   "metadata": {},
   "outputs": [
    {
     "name": "stdout",
     "output_type": "stream",
     "text": [
      "Epoch 1/5\n",
      "13971/13971 [==============================] - 59s 4ms/step - loss: 3746646.7500 - accuracy: 8.9472e-06\n",
      "Epoch 2/5\n",
      "13971/13971 [==============================] - 54s 4ms/step - loss: 2973010.0000 - accuracy: 8.9472e-06\n",
      "Epoch 3/5\n",
      "13971/13971 [==============================] - 58s 4ms/step - loss: 2766561.0000 - accuracy: 8.9472e-06\n",
      "Epoch 4/5\n",
      "13971/13971 [==============================] - 53s 4ms/step - loss: 2702360.5000 - accuracy: 8.9472e-06\n",
      "Epoch 5/5\n",
      "13971/13971 [==============================] - 94s 7ms/step - loss: 2673949.0000 - accuracy: 8.9472e-06\n"
     ]
    },
    {
     "data": {
      "text/plain": [
       "<keras.src.callbacks.History at 0x1ade77cf290>"
      ]
     },
     "execution_count": 195,
     "metadata": {},
     "output_type": "execute_result"
    }
   ],
   "source": [
    "import tensorflow as tf\n",
    "\n",
    "model = tf.keras.models.Sequential([\n",
    "    tf.keras.layers.Dense(32, input_shape=(14,), activation=\"relu\"),\n",
    "    tf.keras.layers.LeakyReLU(alpha=0.3),\n",
    "    tf.keras.layers.Dense(64, activation=\"relu\"),\n",
    "    tf.keras.layers.LeakyReLU(alpha=0.5),\n",
    "    tf.keras.layers.Dense(1)\n",
    "])\n",
    "model.compile(optimizer=tf.keras.optimizers.Adam(learning_rate=0.1), loss=\"mean_squared_error\", metrics=[\"accuracy\"])\n",
    "model.fit(X_train, y_train, epochs=5)"
   ]
  }
 ],
 "metadata": {
  "kernelspec": {
   "display_name": "Python 3",
   "language": "python",
   "name": "python3"
  },
  "language_info": {
   "codemirror_mode": {
    "name": "ipython",
    "version": 3
   },
   "file_extension": ".py",
   "mimetype": "text/x-python",
   "name": "python",
   "nbconvert_exporter": "python",
   "pygments_lexer": "ipython3",
   "version": "3.11.9"
  }
 },
 "nbformat": 4,
 "nbformat_minor": 2
}
